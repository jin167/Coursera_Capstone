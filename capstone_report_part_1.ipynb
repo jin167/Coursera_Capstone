{
 "cells": [
  {
   "cell_type": "markdown",
   "metadata": {},
   "source": [
    "<img src = \"https://www.nzherald.co.nz/resizer/Eo-yZf0zTpughNBjFD4lxh6ZX-c=/620x349/smart/filters:quality(70)/arc-anglerfish-syd-prod-nzme.s3.amazonaws.com/public/PEO6CO5POJHMHOEOPOU5XBA234.jpg\" width = 400>\n",
    "<h1 align=center><font size = 6>A better life across the ditch</font></h1>"
   ]
  },
  {
   "cell_type": "markdown",
   "metadata": {},
   "source": [
    "### 1. A description of the problem and a discussion of the background. \n",
    "\n",
    "For decades, a steady flow of New Zealanders headed to Australia for better employment and lifestyle options. This trend last peaked in 2012 when the Australian economy was booming. Since then the numbers have declined, flat-lining (below 2000 long-term departures) since 2014. However since the start of 2018 the traditional trend has started to re-emerge. Annual net migration for the year to July 2018 was 63,800, according to new numbers released by Stats NZ. That is now down 8,600 from its peak of 74,200 in July 2017 – but still high by historic levels.\n",
    "\n",
    "There are number of reasons why New Zealanders choose to migrate to Australia but the most significant ones are housing cost, wage, and job opportunities. But for those who failed to conduct research and gather information on life in Australia prior to moving often find that the life style in Australia is vastly different from the life style in New Zealand and this often leads to unsatisfying experience especially given the fact that for majority of migrating population the reason for migration is for financial benefit but not necessarily for change in their living environment. \n"
   ]
  },
  {
   "cell_type": "markdown",
   "metadata": {},
   "source": [
    "### 2. A description of the data and how it will be used to solve the problem.\n",
    "\n",
    "As such, I will try to address the problem stated above by using location data collected through the Foursquare API. Foursquare allows us to gather a list of recommended venues within a user defined radius of a specified location (e.g. Auckland, Parnell). These data will then be transformed via one hot encoding to be fed into an unsupervised machine learning algorithm called k means clustering where the entire dataset will be clustered into number of clusters according to the similarity between samples (cities in this case) based on its features(frequency of recommended venues) within a cluster. Although this may not be a perfect solution to the problem and there are many aspects to be considered in determining the similarity between cities (e.g. population structure, infrastructure, etc) this is a good starting place and gives us an overall picture of the situation."
   ]
  },
  
 ],
 "metadata": {
  "kernelspec": {
   "display_name": "Python 3",
   "language": "python",
   "name": "python3"
  },
  "language_info": {
   "codemirror_mode": {
    "name": "ipython",
    "version": 3
   },
   "file_extension": ".py",
   "mimetype": "text/x-python",
   "name": "python",
   "nbconvert_exporter": "python",
   "pygments_lexer": "ipython3",
   "version": "3.6.8"
  }
 },
 "nbformat": 4,
 "nbformat_minor": 2
}
